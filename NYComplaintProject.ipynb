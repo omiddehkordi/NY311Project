{
 "cells": [
  {
   "cell_type": "code",
   "execution_count": null,
   "id": "a6f2cc13",
   "metadata": {},
   "outputs": [],
   "source": [
    "import pandas as pd\n",
    "import numpy as np\n",
    "import matplotlib.pyplot as plt\n",
    "import seaborn as sns\n",
    "\n",
    "import warnings\n",
    "warnings.filterwarnings(\"ignore\")"
   ]
  },
  {
   "cell_type": "markdown",
   "id": "1dce452d",
   "metadata": {},
   "source": [
    "# 1. Understand the dataset"
   ]
  },
  {
   "cell_type": "markdown",
   "id": "eacd679c",
   "metadata": {},
   "source": [
    "# 1.1 Import the dataset"
   ]
  },
  {
   "cell_type": "code",
   "execution_count": null,
   "id": "e0613fcc",
   "metadata": {},
   "outputs": [],
   "source": [
    "service_requests = pd.read_csv(\"311_Service_Requests_from_2010_to_Present.csv\", index_col = 0)"
   ]
  },
  {
   "cell_type": "markdown",
   "id": "0f9eabd5",
   "metadata": {},
   "source": [
    "# 1.2 Visualize the Dataset"
   ]
  },
  {
   "cell_type": "code",
   "execution_count": null,
   "id": "ea7fecab",
   "metadata": {},
   "outputs": [],
   "source": [
    "service_requests.head()"
   ]
  },
  {
   "cell_type": "code",
   "execution_count": null,
   "id": "1bcc1cfd",
   "metadata": {},
   "outputs": [],
   "source": [
    "service_requests.tail()"
   ]
  },
  {
   "cell_type": "markdown",
   "id": "941f4d2f",
   "metadata": {},
   "source": [
    "# 1.3 Print the columns of the Dataframe"
   ]
  },
  {
   "cell_type": "code",
   "execution_count": null,
   "id": "7f09196d",
   "metadata": {},
   "outputs": [],
   "source": [
    "service_requests.columns"
   ]
  },
  {
   "cell_type": "markdown",
   "id": "c843cff4",
   "metadata": {},
   "source": [
    "# 1.4 Identify the shape of the Dataset"
   ]
  },
  {
   "cell_type": "code",
   "execution_count": null,
   "id": "11494756",
   "metadata": {},
   "outputs": [],
   "source": [
    "service_requests.shape"
   ]
  },
  {
   "cell_type": "markdown",
   "id": "72e0ff5b",
   "metadata": {},
   "source": [
    "# 1.5 Identify the variables with null values"
   ]
  },
  {
   "cell_type": "code",
   "execution_count": null,
   "id": "f9a32ec3",
   "metadata": {},
   "outputs": [],
   "source": [
    "service_requests.isna().sum()"
   ]
  },
  {
   "cell_type": "code",
   "execution_count": null,
   "id": "717c269d",
   "metadata": {},
   "outputs": [],
   "source": [
    "percent_missing = service_requests.isnull().sum() * 100 / len(service_requests) \n",
    "missing_value_df = pd.DataFrame({'column_name': service_requests.columns, 'percent_missing': percent_missing}) \n",
    "missing_value_df.sort_values('percent_missing', inplace=True, ascending=False) \n",
    "missing_value_df['percent_missing']= missing_value_df['percent_missing'].round(1) \n",
    "missing_value_df.reset_index(drop=True).head(20)"
   ]
  },
  {
   "cell_type": "code",
   "execution_count": null,
   "id": "3a1202c0",
   "metadata": {},
   "outputs": [],
   "source": [
    "missing_value_df['drop_flag'] = missing_value_df['percent_missing'].apply(lambda x: '1' if x >80 else '0') \n",
    "missing_value_df.reset_index(drop=True).head()"
   ]
  },
  {
   "cell_type": "code",
   "execution_count": null,
   "id": "27818497",
   "metadata": {},
   "outputs": [],
   "source": [
    "service_requests.isna()"
   ]
  },
  {
   "cell_type": "markdown",
   "id": "70b57177",
   "metadata": {},
   "source": [
    "# 2. Perform basic data exploratory analysis"
   ]
  },
  {
   "cell_type": "markdown",
   "id": "c1577900",
   "metadata": {},
   "source": [
    "# 2.1 Draw a frequency plot to show the number of null values in each column of the DataFrame"
   ]
  },
  {
   "cell_type": "code",
   "execution_count": null,
   "id": "4056ad45",
   "metadata": {},
   "outputs": [],
   "source": [
    "service_requests.isna().sum().plot(figsize=(10,10) ,kind='bar')"
   ]
  },
  {
   "cell_type": "markdown",
   "id": "08e48b13",
   "metadata": {},
   "source": [
    "# 2.2 Missing Value Treatment"
   ]
  },
  {
   "cell_type": "markdown",
   "id": "33e64352",
   "metadata": {},
   "source": [
    "# 2.2.1 Remove the records whose Closed Date values are null"
   ]
  },
  {
   "cell_type": "code",
   "execution_count": null,
   "id": "0830ed08",
   "metadata": {},
   "outputs": [],
   "source": [
    "service_requests['Closed Date'].isna().sum()"
   ]
  },
  {
   "cell_type": "code",
   "execution_count": null,
   "id": "15513e0c",
   "metadata": {},
   "outputs": [],
   "source": [
    "service_requests.dropna(subset=['Closed Date'], inplace = True)"
   ]
  },
  {
   "cell_type": "code",
   "execution_count": null,
   "id": "23f7aaa3",
   "metadata": {},
   "outputs": [],
   "source": [
    "service_requests['Closed Date'].isna().sum()"
   ]
  },
  {
   "cell_type": "markdown",
   "id": "3ee1d769",
   "metadata": {},
   "source": [
    "# 2.3 Analyze the date column, and remove entries that have an incorrect timeline"
   ]
  },
  {
   "cell_type": "code",
   "execution_count": null,
   "id": "a1068ab7",
   "metadata": {},
   "outputs": [],
   "source": [
    "service_requests.tail()"
   ]
  },
  {
   "cell_type": "code",
   "execution_count": null,
   "id": "5910b1fc",
   "metadata": {},
   "outputs": [],
   "source": [
    "service_requests['Created Date'] = pd.to_datetime(service_requests['Created Date'])\n",
    "service_requests['Closed Date'] = pd.to_datetime(service_requests['Closed Date'])"
   ]
  },
  {
   "cell_type": "code",
   "execution_count": null,
   "id": "63726445",
   "metadata": {},
   "outputs": [],
   "source": [
    "service_requests['Closed Date'].max()"
   ]
  },
  {
   "cell_type": "code",
   "execution_count": null,
   "id": "792eb6e9",
   "metadata": {},
   "outputs": [],
   "source": [
    "service_requests['Closed Date'].min()"
   ]
  },
  {
   "cell_type": "markdown",
   "id": "29f704b0",
   "metadata": {},
   "source": [
    "# 2.3.1 Calculate the time elapsed in closed and creation date"
   ]
  },
  {
   "cell_type": "code",
   "execution_count": null,
   "id": "1cf0735b",
   "metadata": {},
   "outputs": [],
   "source": [
    "service_requests['Elapsed_Time'] = service_requests['Closed Date'] - service_requests['Created Date']\n",
    "service_requests.head()"
   ]
  },
  {
   "cell_type": "markdown",
   "id": "4d43e9eb",
   "metadata": {},
   "source": [
    "# 2.3.2 Convert the calculated date to seconds to get a better representation"
   ]
  },
  {
   "cell_type": "code",
   "execution_count": null,
   "id": "b38dc62b",
   "metadata": {},
   "outputs": [],
   "source": [
    "service_requests['Elapsed_Time'] = service_requests['Elapsed_Time'].dt.seconds\n",
    "service_requests.head()"
   ]
  },
  {
   "cell_type": "markdown",
   "id": "4948cd9b",
   "metadata": {},
   "source": [
    "# 2.3.3 View the descriptive statistics for the newly created column"
   ]
  },
  {
   "cell_type": "code",
   "execution_count": null,
   "id": "59fba374",
   "metadata": {},
   "outputs": [],
   "source": [
    "service_requests['Elapsed_Time'].describe()"
   ]
  },
  {
   "cell_type": "markdown",
   "id": "3e983e1a",
   "metadata": {},
   "source": [
    "# 2.3.4 Check the number of null values in the Complaint_Type and City columns"
   ]
  },
  {
   "cell_type": "code",
   "execution_count": null,
   "id": "aeec22fc",
   "metadata": {},
   "outputs": [],
   "source": [
    "service_requests['Complaint Type'].isna().sum()"
   ]
  },
  {
   "cell_type": "code",
   "execution_count": null,
   "id": "c205d648",
   "metadata": {},
   "outputs": [],
   "source": [
    "service_requests['City'].isna().sum()"
   ]
  },
  {
   "cell_type": "markdown",
   "id": "3f230a1d",
   "metadata": {},
   "source": [
    "# 2.3.5 Impute the NA value with Unknown City"
   ]
  },
  {
   "cell_type": "code",
   "execution_count": null,
   "id": "f653a190",
   "metadata": {},
   "outputs": [],
   "source": [
    "service_requests['City'].replace(to_replace = np.nan, value = 'Unknown City', inplace=True)\n",
    "service_requests.isna().sum()"
   ]
  },
  {
   "cell_type": "markdown",
   "id": "15d00bf5",
   "metadata": {},
   "source": [
    "# 2.3.6 Draw a frequency plot for the complaints in each city"
   ]
  },
  {
   "cell_type": "code",
   "execution_count": null,
   "id": "f9663749",
   "metadata": {},
   "outputs": [],
   "source": [
    "service_requests['City'].unique()"
   ]
  },
  {
   "cell_type": "code",
   "execution_count": null,
   "id": "79a899e4",
   "metadata": {},
   "outputs": [],
   "source": [
    "service_requests['City'].value_counts().plot(kind = 'bar', figsize=(20,10))"
   ]
  },
  {
   "cell_type": "markdown",
   "id": "1f279982",
   "metadata": {},
   "source": [
    "# 2.3.7 Create a scatter and hexbin plot of the concentration of complaints across Brooklyn"
   ]
  },
  {
   "cell_type": "code",
   "execution_count": null,
   "id": "189a4f29",
   "metadata": {},
   "outputs": [],
   "source": [
    "sr2 = service_requests[service_requests['City'] == \"BROOKLYN\"]\n",
    "sr2['City'].value_counts()"
   ]
  },
  {
   "cell_type": "code",
   "execution_count": null,
   "id": "f61dc704",
   "metadata": {},
   "outputs": [],
   "source": [
    "count = sr2['Complaint Type'].value_counts().reset_index()\n",
    "count"
   ]
  },
  {
   "cell_type": "code",
   "execution_count": null,
   "id": "7c3a3893",
   "metadata": {},
   "outputs": [],
   "source": [
    "plt.figure(figsize=(20,10), dpi=80)\n",
    "plt.scatter(x=sr2['X Coordinate (State Plane)'], y=sr2['Y Coordinate (State Plane)'])\n",
    "plt.show()"
   ]
  },
  {
   "cell_type": "code",
   "execution_count": null,
   "id": "ddae50ca",
   "metadata": {},
   "outputs": [],
   "source": [
    "x = sr2['Longitude'].to_numpy()\n",
    "y = sr2['Latitude'].to_numpy()\n",
    "\n",
    "plt.hexbin(x, y, gridsize=(20,20), cmap=plt.cm.Purples_r)\n",
    "plt.colorbar()\n",
    "plt.show()"
   ]
  },
  {
   "cell_type": "markdown",
   "id": "560a083f",
   "metadata": {},
   "source": [
    "# 3. Find major types of complaints:"
   ]
  },
  {
   "cell_type": "markdown",
   "id": "be4414ab",
   "metadata": {},
   "source": [
    "# 3.1 Plot a bar graph to show the types of complaints"
   ]
  },
  {
   "cell_type": "code",
   "execution_count": null,
   "id": "f5bfc159",
   "metadata": {},
   "outputs": [],
   "source": [
    "service_requests['Complaint Type'].value_counts().plot(kind='bar')"
   ]
  },
  {
   "cell_type": "markdown",
   "id": "6e1b9de9",
   "metadata": {},
   "source": [
    "# 3.2 Check the frequency of various types of complaints for New York City"
   ]
  },
  {
   "cell_type": "code",
   "execution_count": null,
   "id": "c7d28eb4",
   "metadata": {},
   "outputs": [],
   "source": [
    "sr_ny = service_requests[service_requests['City'] == 'NEW YORK']\n",
    "sr_ny['Complaint Type'].value_counts()"
   ]
  },
  {
   "cell_type": "markdown",
   "id": "281ae147",
   "metadata": {},
   "source": [
    "# 3.3 Find the top 10 complaint types"
   ]
  },
  {
   "cell_type": "code",
   "execution_count": null,
   "id": "975f48ce",
   "metadata": {},
   "outputs": [],
   "source": [
    "sr_ny = sr_ny['Complaint Type'].value_counts().reset_index()\n",
    "sr_ny.sort_values(by='Complaint Type', ascending=False).head(10)"
   ]
  },
  {
   "cell_type": "markdown",
   "id": "71533889",
   "metadata": {},
   "source": [
    "# 3.4 Display the various types of complaints in each city"
   ]
  },
  {
   "cell_type": "code",
   "execution_count": null,
   "id": "b6d926de",
   "metadata": {},
   "outputs": [],
   "source": [
    "#First Way\n",
    "gr = service_requests.groupby(by='City')\n",
    "gr['Complaint Type'].unique()"
   ]
  },
  {
   "cell_type": "code",
   "execution_count": null,
   "id": "d0a40ae5",
   "metadata": {},
   "outputs": [],
   "source": [
    "#Second Way\n",
    "gr_cross = pd.crosstab(index= service_requests['City'], columns = service_requests['Complaint Type'])\n",
    "gr_cross"
   ]
  },
  {
   "cell_type": "markdown",
   "id": "117307b7",
   "metadata": {},
   "source": [
    "# 3.5 Create a DataFrame, df_new, which contains cities as columns and complaint types in rows"
   ]
  },
  {
   "cell_type": "code",
   "execution_count": null,
   "id": "cc17b98f",
   "metadata": {},
   "outputs": [],
   "source": [
    "#I understood the question as the columns being different City Names and the rows being different Complaint Types\n",
    "#If the other way around is meant, the answer would be:\n",
    "#df_new = pd.crosstab(index= service_requests['City'], columns = service_requests['Complaint_Type'])\n",
    "df_new = pd.crosstab(index= service_requests['Complaint Type'], columns = service_requests['City'])\n",
    "df_new.head(10)"
   ]
  },
  {
   "cell_type": "markdown",
   "id": "59d1f6a2",
   "metadata": {},
   "source": [
    "# 4. Visualize the major types of complaints in each city"
   ]
  },
  {
   "cell_type": "markdown",
   "id": "53cdb2a9",
   "metadata": {},
   "source": [
    "# 4.1 Draw another chart that shows the types of complaints in each city in a single chart, where different colors show the different types of complaints"
   ]
  },
  {
   "cell_type": "code",
   "execution_count": null,
   "id": "73ed26a0",
   "metadata": {},
   "outputs": [],
   "source": [
    "cr = pd.crosstab(index= service_requests['City'], columns = service_requests['Complaint Type'])\n",
    "com_plot = cr.plot(kind ='barh', figsize=(15,10), legend=True, stacked=True)\n",
    "com_plot.legend(title = 'Complaints')"
   ]
  },
  {
   "cell_type": "markdown",
   "id": "4a4168e9",
   "metadata": {},
   "source": [
    "# 4.2 Sort the complaint types based on the average Request_Closing_Time grouping them for different locations"
   ]
  },
  {
   "cell_type": "code",
   "execution_count": null,
   "id": "28383083",
   "metadata": {},
   "outputs": [],
   "source": [
    "service_requests['Request_Closing_Time'] = service_requests['Closed Date'] - service_requests['Created Date']"
   ]
  },
  {
   "cell_type": "code",
   "execution_count": null,
   "id": "28666fae",
   "metadata": {},
   "outputs": [],
   "source": [
    "service_requests.sort_values(by=['Request_Closing_Time'])\n",
    "service_requests.groupby('City')['Request_Closing_Time'].mean()"
   ]
  },
  {
   "cell_type": "markdown",
   "id": "4cf28a20",
   "metadata": {},
   "source": [
    "# 5. See whether the average response time across different complaint types is similar (overall)"
   ]
  },
  {
   "cell_type": "markdown",
   "id": "0dc1af5c",
   "metadata": {},
   "source": [
    "# 5.1 Visualize the average of Request_Closing_Time"
   ]
  },
  {
   "cell_type": "code",
   "execution_count": null,
   "id": "4c2748d1",
   "metadata": {},
   "outputs": [],
   "source": [
    "service_requests['Response_Time'] = (service_requests['Closed Date'] - service_requests['Created Date']).astype('timedelta64[h]')\n",
    "service_requests.groupby('Complaint Type')['Response_Time'].mean().plot(kind='barh', rot=45, fontsize=10, figsize=(18, 6))"
   ]
  },
  {
   "cell_type": "markdown",
   "id": "70b85003",
   "metadata": {},
   "source": [
    "# 6. Identify the significant variables by performing statistical analysis using p-values"
   ]
  },
  {
   "cell_type": "code",
   "execution_count": null,
   "id": "39153f17",
   "metadata": {},
   "outputs": [],
   "source": [
    "mean= service_requests['Response_Time'].mean()\n",
    "service_requests['Above_Average_Response_Time'] = service_requests.apply(lambda x: '1' if x['Response_Time'] > mean else '0', axis=1)\n",
    "pd.crosstab(service_requests['Complaint Type'], service_requests['Above_Average_Response_Time'])"
   ]
  },
  {
   "cell_type": "markdown",
   "id": "bc956c43",
   "metadata": {},
   "source": [
    "# 7. Perform a Kruskal-Wallis H test"
   ]
  },
  {
   "cell_type": "code",
   "execution_count": null,
   "id": "4f80a8e9",
   "metadata": {},
   "outputs": [],
   "source": [
    "from scipy import stats\n",
    "\n",
    "bronx = service_requests[service_requests['City']== 'BRONX'] \n",
    "x=bronx['Response_Time'].to_list() \n",
    "brooklyn= service_requests[service_requests['City']== 'BROOKLYN'] \n",
    "y=brooklyn['Response_Time'].to_list() \n",
    "\n",
    "#H0 -> All sample distributions are equal\n",
    "#alpha for this case will be 0.05\n",
    "\n",
    "stats.kruskal(x, y)"
   ]
  },
  {
   "cell_type": "code",
   "execution_count": null,
   "id": "d8897355",
   "metadata": {},
   "outputs": [],
   "source": [
    "#reject the Null Hypothesis, because the pvalue is less than alpha 0.5"
   ]
  },
  {
   "cell_type": "markdown",
   "id": "480ba58d",
   "metadata": {},
   "source": [
    "# 8. Present your observations"
   ]
  },
  {
   "cell_type": "code",
   "execution_count": null,
   "id": "7d6ae79b",
   "metadata": {},
   "outputs": [],
   "source": [
    "#High numbers of NA values for multiple columns in the dataset\n",
    "\n",
    "#NYC, Brooklyn and Bronx have the highest number of Complaints\n",
    "\n",
    "#w\n",
    "\n",
    "#This differs for each city as seen in the data for NYC\n",
    "#This could be due to the nature of each city(e.g: NYC is busier, whereas other cities are more suburban)\n",
    "#This would need to be tested with further Hypothesis testing\n",
    "\n",
    "#All the request closing times are relatively similar except animal in park which has a much higher value than\n",
    "#the others"
   ]
  }
 ],
 "metadata": {
  "kernelspec": {
   "display_name": "Python 3 (ipykernel)",
   "language": "python",
   "name": "python3"
  },
  "language_info": {
   "codemirror_mode": {
    "name": "ipython",
    "version": 3
   },
   "file_extension": ".py",
   "mimetype": "text/x-python",
   "name": "python",
   "nbconvert_exporter": "python",
   "pygments_lexer": "ipython3",
   "version": "3.9.13"
  }
 },
 "nbformat": 4,
 "nbformat_minor": 5
}
